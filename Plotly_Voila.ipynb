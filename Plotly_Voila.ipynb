{
 "cells": [
  {
   "cell_type": "markdown",
   "metadata": {
    "hide_input": false
   },
   "source": [
    "## Plotly Express Dash-like Rendering"
   ]
  },
  {
   "cell_type": "code",
   "execution_count": null,
   "metadata": {},
   "outputs": [],
   "source": [
    "import plotly.express as px\n",
    "\n",
    "gapminder = px.data.gapminder()\n",
    "gapminder.tail()\n",
    "\n",
    "fig = px.scatter(gapminder, x=\"gdpPercap\", y=\"lifeExp\", animation_frame=\"year\", animation_group=\"country\",\n",
    "           size=\"pop\", color=\"continent\", hover_name=\"country\", facet_col=\"continent\",\n",
    "           log_x=True, size_max=45, range_x=[100,100000], range_y=[25,90], template=\"plotly_dark\")\n",
    "fig.update_layout(width=1000,height=600)\n",
    "fig.show()"
   ]
  },
  {
   "cell_type": "markdown",
   "metadata": {},
   "source": [
    "## `FigureWidget` Dash-like Rendering"
   ]
  },
  {
   "cell_type": "code",
   "execution_count": null,
   "metadata": {},
   "outputs": [],
   "source": [
    "from ipywidgets import interact\n",
    "import numpy as np\n",
    "import plotly.graph_objects as go\n",
    "\n",
    "fig = go.FigureWidget()\n",
    "scatt = fig.add_scatter()\n",
    "xs=np.linspace(0, 6, 100)\n",
    "\n",
    "@interact(a=(1.0, 10.0, 0.01), b=(0, 10.0, 0.01), color_line=['blue','red','green'],color_bg=['slategray','lightblue','white'])\n",
    "def update(a=3.6, b=4.3, color_line='blue',color_bg='lightblue'):\n",
    "    with fig.batch_update():\n",
    "        scatt.data[0].x=xs\n",
    "        scatt.data[0].y=np.sin(a*xs-b)\n",
    "        scatt.data[0].marker.color = color_line\n",
    "        scatt.layout.plot_bgcolor = color_bg\n",
    "scatt"
   ]
  },
  {
   "cell_type": "code",
   "execution_count": null,
   "metadata": {
    "scrolled": true
   },
   "outputs": [],
   "source": [
    "from IPython.display import IFrame\n",
    "import ipywidgets as widgets\n",
    "\n",
    "\n",
    "content_inner = widgets.HTML(value=\"<center><a href=\\\"https://github.com/agahkarakuzu/dash_heroku\\\"><h3> Dash + Heroku + GitHub Actions </h3></a></center>\")\n",
    "accordion_inner = widgets.Accordion(children=[content_inner])\n",
    "accordion_inner.set_title(0, 'Deploy Dash to Production')\n",
    "accordion_inner.selected_index = None\n",
    "\n",
    "ifr = widgets.HTML(value=\"<iframe src=\\\"voilaland.png\\\" height=\\\"600\\\" width=\\\"1300\\\"></iframe>\")\n",
    "accordion = widgets.Accordion(children=[ifr])\n",
    "accordion.set_title(0, 'City of dashboards')\n",
    "accordion.selected_index = None\n",
    "\n",
    "\n",
    "ifr2 = widgets.HTML(value=\"<iframe src=\\\"https://dash-brainhack.herokuapp.com\\\" style=\\\"width:100%; height:900px;\\\"></iframe>\")\n",
    "accordion_mid = widgets.Accordion(children=[ifr2])\n",
    "accordion_mid.set_title(0, 'This is an iFrame')\n",
    "accordion_mid.selected_index = None\n",
    "\n",
    "\n",
    "    \n",
    "    \n",
    "display(accordion)\n",
    "display(accordion_mid)\n",
    "display(accordion_inner)"
   ]
  }
 ],
 "metadata": {
  "kernelspec": {
   "display_name": "Python 3",
   "language": "python",
   "name": "python3"
  },
  "language_info": {
   "codemirror_mode": {
    "name": "ipython",
    "version": 3
   },
   "file_extension": ".py",
   "mimetype": "text/x-python",
   "name": "python",
   "nbconvert_exporter": "python",
   "pygments_lexer": "ipython3",
   "version": "3.6.10"
  }
 },
 "nbformat": 4,
 "nbformat_minor": 4
}
